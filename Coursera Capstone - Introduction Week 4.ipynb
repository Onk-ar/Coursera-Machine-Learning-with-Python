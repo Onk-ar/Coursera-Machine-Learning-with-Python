{
 "cells": [
  {
   "cell_type": "markdown",
   "metadata": {},
   "source": [
    "# Introduction\n",
    "\n",
    "Cebu City is one of Philippines most populous city. It rivals Manila and Davao not only in land area but also in provincial and city level income. It is multicultural and provides a lot of business opportunities to its citizen. It has attracted different players into the market especially in the BPO industry. The city is also a major center for banking and finance, retailing, software engineering outsourcing, accountancy, business process outsourcing as well as in advertising and real estate. This means that the market is highly competitive and that there are a lot of different offerings. Thus, any new business venture or expansion needs to be analyzed carefully. The insights derived from analysis will give good understanding of the environment which will help make strategic choices. This will help in reducing risk of loss of investment.\n",
    "\n",
    "## Business Problem\n",
    "\n",
    "It is no secret that Philippine food is very diverse with a lot of inspiration from a lot of different cultures which mingled either because of trade, migration, or colonization. Because of this, there are a lot of different kinds of restaurants littered around the city. \n",
    "\n",
    "The main focus is in creating an all-filipino restaurant and looking if it would be a great opportunity and if that there are, if any, competitions around the area.\n",
    "\n",
    "## Finding a Suitable Location\n",
    "\n",
    "Location finding is the most important step in starting a new restaurant. Ideally, it should be close to fresh markets selling fresh produce, fish and other necessary ingredients. Various other factors like proximity to malls, condominiums and business centers would also be accounted for as these would draw in more customers.\n",
    "\n",
    "## Target Audience\n",
    "\n",
    "My client wants to open his business around IT Park, so I will focus my analysis on that area. The objective is to locate and recommend to the management which neighborhood will be the best choice to start a restaurant."
   ]
  }
 ],
 "metadata": {
  "kernelspec": {
   "display_name": "Python 3",
   "language": "python",
   "name": "python3"
  },
  "language_info": {
   "codemirror_mode": {
    "name": "ipython",
    "version": 3
   },
   "file_extension": ".py",
   "mimetype": "text/x-python",
   "name": "python",
   "nbconvert_exporter": "python",
   "pygments_lexer": "ipython3",
   "version": "3.8.3"
  }
 },
 "nbformat": 4,
 "nbformat_minor": 4
}
